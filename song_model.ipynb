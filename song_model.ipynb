{
 "cells": [
  {
   "cell_type": "code",
   "execution_count": 1,
   "id": "81c54bf1-485a-4c44-83ad-6366c5878d29",
   "metadata": {},
   "outputs": [],
   "source": [
    "import pandas as pd\n",
    "import sklearn"
   ]
  },
  {
   "cell_type": "code",
   "execution_count": 2,
   "id": "8b0b841d-d6df-47e7-b795-c9954dce609d",
   "metadata": {},
   "outputs": [],
   "source": [
    "data = pd.read_csv(\"song_dataset.csv\", encoding='latin1', na_values=[\"??\"])"
   ]
  },
  {
   "cell_type": "code",
   "execution_count": 3,
   "id": "e94e0500-eb1c-4af0-9802-6400dae944dc",
   "metadata": {},
   "outputs": [
    {
     "data": {
      "text/html": [
       "<div>\n",
       "<style scoped>\n",
       "    .dataframe tbody tr th:only-of-type {\n",
       "        vertical-align: middle;\n",
       "    }\n",
       "\n",
       "    .dataframe tbody tr th {\n",
       "        vertical-align: top;\n",
       "    }\n",
       "\n",
       "    .dataframe thead th {\n",
       "        text-align: right;\n",
       "    }\n",
       "</style>\n",
       "<table border=\"1\" class=\"dataframe\">\n",
       "  <thead>\n",
       "    <tr style=\"text-align: right;\">\n",
       "      <th></th>\n",
       "      <th>Title</th>\n",
       "      <th>Lead Actor</th>\n",
       "      <th>Singer 1</th>\n",
       "      <th>Singer 2</th>\n",
       "      <th>Composer</th>\n",
       "      <th>Genre</th>\n",
       "      <th>Movie</th>\n",
       "    </tr>\n",
       "  </thead>\n",
       "  <tbody>\n",
       "    <tr>\n",
       "      <th>0</th>\n",
       "      <td>Tum Hi Ho</td>\n",
       "      <td>Aditya Roy Kapur</td>\n",
       "      <td>Arijit Singh</td>\n",
       "      <td>NaN</td>\n",
       "      <td>Mithoon</td>\n",
       "      <td>Romantic</td>\n",
       "      <td>Aashiqui 2</td>\n",
       "    </tr>\n",
       "    <tr>\n",
       "      <th>1</th>\n",
       "      <td>Tere Sang Yaara</td>\n",
       "      <td>Akshay Kumar</td>\n",
       "      <td>Atif Aslam</td>\n",
       "      <td>NaN</td>\n",
       "      <td>Arko Pravo Mukherjee</td>\n",
       "      <td>Romantic</td>\n",
       "      <td>Rustom</td>\n",
       "    </tr>\n",
       "    <tr>\n",
       "      <th>2</th>\n",
       "      <td>Kesariya</td>\n",
       "      <td>Ranbir Kapoor</td>\n",
       "      <td>Arijit Singh</td>\n",
       "      <td>NaN</td>\n",
       "      <td>Pritam</td>\n",
       "      <td>Romantic</td>\n",
       "      <td>Brahmastra: Part One  Shiva</td>\n",
       "    </tr>\n",
       "    <tr>\n",
       "      <th>3</th>\n",
       "      <td>Zinda</td>\n",
       "      <td>Farhan Akhtar</td>\n",
       "      <td>Siddharth Mahadevan</td>\n",
       "      <td>NaN</td>\n",
       "      <td>Shankar Ehsaan Loy</td>\n",
       "      <td>Motivational</td>\n",
       "      <td>Bhaag Milkha Bhaag</td>\n",
       "    </tr>\n",
       "    <tr>\n",
       "      <th>4</th>\n",
       "      <td>Apna Bana Le</td>\n",
       "      <td>Varun Dhawan</td>\n",
       "      <td>Arijit Singh</td>\n",
       "      <td>NaN</td>\n",
       "      <td>Sachin-Jigar</td>\n",
       "      <td>Romantic</td>\n",
       "      <td>Bhediya</td>\n",
       "    </tr>\n",
       "  </tbody>\n",
       "</table>\n",
       "</div>"
      ],
      "text/plain": [
       "             Title        Lead Actor             Singer 1 Singer 2  \\\n",
       "0        Tum Hi Ho  Aditya Roy Kapur         Arijit Singh      NaN   \n",
       "1  Tere Sang Yaara      Akshay Kumar           Atif Aslam      NaN   \n",
       "2         Kesariya     Ranbir Kapoor         Arijit Singh      NaN   \n",
       "3            Zinda     Farhan Akhtar  Siddharth Mahadevan      NaN   \n",
       "4     Apna Bana Le      Varun Dhawan         Arijit Singh      NaN   \n",
       "\n",
       "               Composer         Genre                         Movie  \n",
       "0               Mithoon      Romantic                    Aashiqui 2  \n",
       "1  Arko Pravo Mukherjee      Romantic                        Rustom  \n",
       "2                Pritam      Romantic  Brahmastra: Part One  Shiva  \n",
       "3    Shankar Ehsaan Loy  Motivational            Bhaag Milkha Bhaag  \n",
       "4          Sachin-Jigar      Romantic                       Bhediya  "
      ]
     },
     "execution_count": 3,
     "metadata": {},
     "output_type": "execute_result"
    }
   ],
   "source": [
    "data.head()"
   ]
  },
  {
   "cell_type": "code",
   "execution_count": 4,
   "id": "08a8f94c-0e22-4025-9a3c-b6c330670c6c",
   "metadata": {},
   "outputs": [
    {
     "data": {
      "text/plain": [
       "(66, 7)"
      ]
     },
     "execution_count": 4,
     "metadata": {},
     "output_type": "execute_result"
    }
   ],
   "source": [
    "data.shape"
   ]
  },
  {
   "cell_type": "code",
   "execution_count": 5,
   "id": "e593f5f9-cb8d-4cb4-9b10-4415c10962e3",
   "metadata": {},
   "outputs": [],
   "source": [
    "from sklearn.feature_extraction.text import TfidfVectorizer\n",
    "from sklearn.metrics.pairwise import cosine_similarity"
   ]
  },
  {
   "cell_type": "code",
   "execution_count": 6,
   "id": "e85b4cc7-57e8-42f0-ade5-39aa64bd3522",
   "metadata": {},
   "outputs": [],
   "source": [
    "selected_cols = ['Title', 'Lead Actor', 'Singer 1', 'Singer 2', 'Composer', 'Genre', 'Movie']\n",
    "\n",
    "data[selected_cols].fillna('',inplace=True)\n",
    "\n",
    "data['combined'] = data[selected_cols].astype(str).agg(' '.join, axis=1)\n",
    "\n",
    "vectorizer = TfidfVectorizer()\n",
    "Model = vectorizer.fit_transform(data['combined'])\n",
    "\n",
    "similarity = cosine_similarity(Model)"
   ]
  },
  {
   "cell_type": "code",
   "execution_count": 7,
   "id": "680bd7b5-806f-4676-a684-d75b21dd5393",
   "metadata": {},
   "outputs": [],
   "source": [
    "def recommend(input):\n",
    "    input = input.lower()\n",
    "    \n",
    "    # Title case sensitive\n",
    "    index = data[ data['combined'].str.lower().str.contains(input)].index.tolist()\n",
    "\n",
    "    if len(index) == 0:\n",
    "        return \"Song not found in dataset.\"\n",
    "\n",
    "    index = index[0]\n",
    "\n",
    "    # Similarity scores\n",
    "    scores = list(enumerate(similarity[index]))\n",
    "    scores = sorted(scores, key=lambda x: x[1], reverse=True)\n",
    "\n",
    "    # Top 5 similar movies\n",
    "    top_movies = scores[1:6]\n",
    "\n",
    "    print(\"\\nTop 5 recommendations for\",input,\":\")\n",
    "    for i,score in top_movies:\n",
    "        print(data['Title'][i],\", Score: \",score)"
   ]
  },
  {
   "cell_type": "code",
   "execution_count": 8,
   "id": "2ac8bdfd-ac9e-43a6-8141-85ce66171dbc",
   "metadata": {},
   "outputs": [
    {
     "name": "stdout",
     "output_type": "stream",
     "text": [
      "\n",
      "Top 5 recommendations for romantic :\n",
      "Tujhe Kitna Chahne Lage , Score:  0.22333822559876612\n",
      "Tum Se Hi , Score:  0.21978659119965807\n",
      "Phir Mohabbat , Score:  0.17884631275741103\n",
      "Khairiyat , Score:  0.15569073288994187\n",
      "Dil Ibaadat , Score:  0.1384674143760169\n"
     ]
    }
   ],
   "source": [
    "recommend(\"Romantic\")"
   ]
  },
  {
   "cell_type": "code",
   "execution_count": 9,
   "id": "601c70d8-1564-4520-80d2-eba4131a1aba",
   "metadata": {},
   "outputs": [
    {
     "data": {
      "text/plain": [
       "['song_list.pkl']"
      ]
     },
     "execution_count": 9,
     "metadata": {},
     "output_type": "execute_result"
    }
   ],
   "source": [
    "import joblib\n",
    "joblib.dump(similarity, 'similarity.pkl')\n",
    "joblib.dump(data, 'song_list.pkl') # This"
   ]
  },
  {
   "cell_type": "code",
   "execution_count": null,
   "id": "1b8366da-d9db-40f8-814c-4b81b1b3d087",
   "metadata": {},
   "outputs": [],
   "source": []
  }
 ],
 "metadata": {
  "kernelspec": {
   "display_name": "Python 3 (ipykernel)",
   "language": "python",
   "name": "python3"
  },
  "language_info": {
   "codemirror_mode": {
    "name": "ipython",
    "version": 3
   },
   "file_extension": ".py",
   "mimetype": "text/x-python",
   "name": "python",
   "nbconvert_exporter": "python",
   "pygments_lexer": "ipython3",
   "version": "3.10.11"
  }
 },
 "nbformat": 4,
 "nbformat_minor": 5
}
